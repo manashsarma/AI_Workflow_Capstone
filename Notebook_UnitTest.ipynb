{
 "cells": [
  {
   "cell_type": "markdown",
   "metadata": {},
   "source": [
    "## Unit Testing\n",
    "\n",
    "This notebook is to do the unit testing and save the results for : \n",
    "\n",
    "1. unit tests for the API\n",
    "2. unit tests for the logging\n",
    "3. unit tests for the model\n",
    "4. unit tests be run with a single script\n",
    "\n",
    "All the unit tests pass as per recorded results. Additionally, execution time is recorded. \n",
    "\n",
    "The notebook executes the scripts starting with prefix 'UnitTest_' where all 4 types of testcases mentioned above are kept.\n",
    "\n",
    "```\n",
    "├── app.py\n",
    "├── Dockerfile\n",
    "├── model.py\n",
    "├── cslib.py\n",
    "├── logger.py\n",
    "├── README.md\n",
    "├── requirements.txt\n",
    "├── models\n",
    "├── Notebook_Case_Study_part1_ingest_visuallization.ipynb\n",
    "├── Notebook_Model_Performance_comparison.ipynb\n",
    "├── Notebook_Monitoring.ipynb\n",
    "├── Notebook_UnitTest.ipynb\n",
    "├── UnitTest_allTestCases.py\n",
    "├── UnitTest_Model.py\n",
    "├── UnitTests_API.py\n",
    "├── UnitTests_logger.py\n",
    "├── templates\n",
    "│   ├── base.html\n",
    "│   ├── dashboard.html\n",
    "│   ├── index.html\n",
    "│   └── running.html\n",
    "│\n",
    "└── logs\n",
    "    ├── predict-2020-12.log\n",
    "    ├── predict-test.log\n",
    "    ├── train-test.log\n",
    "```"
   ]
  },
  {
   "cell_type": "code",
   "execution_count": 1,
   "metadata": {},
   "outputs": [],
   "source": [
    "import os\n",
    "import sys"
   ]
  },
  {
   "cell_type": "code",
   "execution_count": 2,
   "metadata": {},
   "outputs": [
    {
     "name": "stdout",
     "output_type": "stream",
     "text": [
      "....\r\n",
      "----------------------------------------------------------------------\r\n",
      "Ran 4 tests in 0.008s\r\n",
      "\r\n",
      "OK\r\n"
     ]
    }
   ],
   "source": [
    "!python UnitTests_logger.py"
   ]
  },
  {
   "cell_type": "code",
   "execution_count": 3,
   "metadata": {},
   "outputs": [
    {
     "name": "stdout",
     "output_type": "stream",
     "text": [
      "....\n",
      "----------------------------------------------------------------------\n",
      "Ran 4 tests in 52.825s\n",
      "\n",
      "OK\n"
     ]
    }
   ],
   "source": [
    "!python UnitTests_API.py"
   ]
  },
  {
   "cell_type": "code",
   "execution_count": 4,
   "metadata": {},
   "outputs": [
    {
     "name": "stdout",
     "output_type": "stream",
     "text": [
      "... test flag on\n",
      "...... subsetting data\n",
      "...... subsetting countries\n",
      "... loading ts data from files\n",
      "... saving test version of model: models/test-united_kingdom-0_1.joblib\n",
      "... saving test version of model: models/test-all-0_1.joblib\n",
      ".... loading ts data from files\n",
      ".... loading ts data from files\n",
      ".\n",
      "----------------------------------------------------------------------\n",
      "Ran 3 tests in 55.591s\n",
      "\n",
      "OK\n"
     ]
    }
   ],
   "source": [
    "!python UnitTest_Model.py"
   ]
  },
  {
   "cell_type": "code",
   "execution_count": 5,
   "metadata": {},
   "outputs": [
    {
     "name": "stdout",
     "output_type": "stream",
     "text": [
      "........... test flag on\n",
      "...... subsetting data\n",
      "...... subsetting countries\n",
      "... loading ts data from files\n",
      "... saving test version of model: models/test-united_kingdom-0_1.joblib\n",
      "... saving test version of model: models/test-all-0_1.joblib\n",
      ".... loading ts data from files\n",
      ".... loading ts data from files\n",
      ".\n",
      "----------------------------------------------------------------------\n",
      "Ran 11 tests in 113.337s\n",
      "\n",
      "OK\n"
     ]
    }
   ],
   "source": [
    "!python UnitTest_allTestCases.py"
   ]
  }
 ],
 "metadata": {
  "kernelspec": {
   "display_name": "Python 3",
   "language": "python",
   "name": "python3"
  },
  "language_info": {
   "codemirror_mode": {
    "name": "ipython",
    "version": 3
   },
   "file_extension": ".py",
   "mimetype": "text/x-python",
   "name": "python",
   "nbconvert_exporter": "python",
   "pygments_lexer": "ipython3",
   "version": "3.7.3"
  }
 },
 "nbformat": 4,
 "nbformat_minor": 2
}
