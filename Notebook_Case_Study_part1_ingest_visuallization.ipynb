{
 "cells": [
  {
   "cell_type": "markdown",
   "metadata": {},
   "source": [
    "# Data ingestion and visualization\n",
    "\n",
    "The python script 'cslib.py' supports  methods by which it extracts data from json source files, process them and transport to proper dataframe for further. The JSON files may not contain uniformly named features. So data ingestion methods takes care of this including extracting time series information:\n",
    "\n",
    "1. fetch_data(data_dir)\n",
    "2. convert_to_ts(df_orig, country=None)\n",
    "3. fetch_ts(data_dir, clean=False)\n",
    "\n",
    "This notebook uses data ingestion method fetch_data(). Then it convert year, month, day to a single datetime column and then proceeds to 'exploratory data analysis'. In the EDA, different visualization techniques are used:\n",
    "\n",
    "1. A Distplot or distribution plot to depict the variation in the data distribution with respect price.\n",
    "2. A msno.matrix (a data-dense display ) and subsequent plot to visualize the data for missing values in the dataframe.\n",
    "3. relplot(), a figure-level function for visualizing statistical relationships using two common approaches: scatter plots and line plots. The statistical relationship here is between 'date' and 'price' variables.\n"
   ]
  },
  {
   "cell_type": "code",
   "execution_count": 1,
   "metadata": {},
   "outputs": [
    {
     "name": "stderr",
     "output_type": "stream",
     "text": [
      "/Users/manashsarma/anaconda3/lib/python3.7/site-packages/statsmodels/tools/_testing.py:19: FutureWarning: pandas.util.testing is deprecated. Use the functions in the public API at pandas.testing instead.\n",
      "  import pandas.util.testing as tm\n"
     ]
    }
   ],
   "source": [
    "import os\n",
    "import numpy as np\n",
    "import pandas as pd\n",
    "import matplotlib.pyplot as plt\n",
    "import missingno as msno\n",
    "import seaborn as sns\n",
    "from cslib import fetch_data\n"
   ]
  },
  {
   "cell_type": "code",
   "execution_count": 2,
   "metadata": {},
   "outputs": [
    {
     "data": {
      "text/html": [
       "<div>\n",
       "<style scoped>\n",
       "    .dataframe tbody tr th:only-of-type {\n",
       "        vertical-align: middle;\n",
       "    }\n",
       "\n",
       "    .dataframe tbody tr th {\n",
       "        vertical-align: top;\n",
       "    }\n",
       "\n",
       "    .dataframe thead th {\n",
       "        text-align: right;\n",
       "    }\n",
       "</style>\n",
       "<table border=\"1\" class=\"dataframe\">\n",
       "  <thead>\n",
       "    <tr style=\"text-align: right;\">\n",
       "      <th></th>\n",
       "      <th>country</th>\n",
       "      <th>customer_id</th>\n",
       "      <th>day</th>\n",
       "      <th>invoice</th>\n",
       "      <th>month</th>\n",
       "      <th>price</th>\n",
       "      <th>stream_id</th>\n",
       "      <th>times_viewed</th>\n",
       "      <th>year</th>\n",
       "      <th>invoice_date</th>\n",
       "    </tr>\n",
       "  </thead>\n",
       "  <tbody>\n",
       "    <tr>\n",
       "      <th>0</th>\n",
       "      <td>United Kingdom</td>\n",
       "      <td>17998.0</td>\n",
       "      <td>28</td>\n",
       "      <td>489562</td>\n",
       "      <td>11</td>\n",
       "      <td>5.95</td>\n",
       "      <td>84656</td>\n",
       "      <td>1</td>\n",
       "      <td>2017</td>\n",
       "      <td>2017-11-28</td>\n",
       "    </tr>\n",
       "    <tr>\n",
       "      <th>1</th>\n",
       "      <td>United Kingdom</td>\n",
       "      <td>13085.0</td>\n",
       "      <td>28</td>\n",
       "      <td>489434</td>\n",
       "      <td>11</td>\n",
       "      <td>6.75</td>\n",
       "      <td>79323W</td>\n",
       "      <td>12</td>\n",
       "      <td>2017</td>\n",
       "      <td>2017-11-28</td>\n",
       "    </tr>\n",
       "    <tr>\n",
       "      <th>2</th>\n",
       "      <td>United Kingdom</td>\n",
       "      <td>13085.0</td>\n",
       "      <td>28</td>\n",
       "      <td>489434</td>\n",
       "      <td>11</td>\n",
       "      <td>2.10</td>\n",
       "      <td>22041</td>\n",
       "      <td>21</td>\n",
       "      <td>2017</td>\n",
       "      <td>2017-11-28</td>\n",
       "    </tr>\n",
       "    <tr>\n",
       "      <th>3</th>\n",
       "      <td>United Kingdom</td>\n",
       "      <td>13085.0</td>\n",
       "      <td>28</td>\n",
       "      <td>489434</td>\n",
       "      <td>11</td>\n",
       "      <td>1.25</td>\n",
       "      <td>21232</td>\n",
       "      <td>5</td>\n",
       "      <td>2017</td>\n",
       "      <td>2017-11-28</td>\n",
       "    </tr>\n",
       "    <tr>\n",
       "      <th>4</th>\n",
       "      <td>United Kingdom</td>\n",
       "      <td>13085.0</td>\n",
       "      <td>28</td>\n",
       "      <td>489434</td>\n",
       "      <td>11</td>\n",
       "      <td>1.65</td>\n",
       "      <td>22064</td>\n",
       "      <td>17</td>\n",
       "      <td>2017</td>\n",
       "      <td>2017-11-28</td>\n",
       "    </tr>\n",
       "  </tbody>\n",
       "</table>\n",
       "</div>"
      ],
      "text/plain": [
       "          country  customer_id  day invoice  month  price stream_id  \\\n",
       "0  United Kingdom      17998.0   28  489562     11   5.95     84656   \n",
       "1  United Kingdom      13085.0   28  489434     11   6.75    79323W   \n",
       "2  United Kingdom      13085.0   28  489434     11   2.10     22041   \n",
       "3  United Kingdom      13085.0   28  489434     11   1.25     21232   \n",
       "4  United Kingdom      13085.0   28  489434     11   1.65     22064   \n",
       "\n",
       "   times_viewed  year invoice_date  \n",
       "0             1  2017   2017-11-28  \n",
       "1            12  2017   2017-11-28  \n",
       "2            21  2017   2017-11-28  \n",
       "3             5  2017   2017-11-28  \n",
       "4            17  2017   2017-11-28  "
      ]
     },
     "execution_count": 2,
     "metadata": {},
     "output_type": "execute_result"
    }
   ],
   "source": [
    "data_dir = os.path.join(\".\",\"data\",\"cs-train\")\n",
    "df = fetch_data(data_dir)\n",
    "df.head()"
   ]
  },
  {
   "cell_type": "code",
   "execution_count": 3,
   "metadata": {},
   "outputs": [
    {
     "data": {
      "text/html": [
       "<div>\n",
       "<style scoped>\n",
       "    .dataframe tbody tr th:only-of-type {\n",
       "        vertical-align: middle;\n",
       "    }\n",
       "\n",
       "    .dataframe tbody tr th {\n",
       "        vertical-align: top;\n",
       "    }\n",
       "\n",
       "    .dataframe thead th {\n",
       "        text-align: right;\n",
       "    }\n",
       "</style>\n",
       "<table border=\"1\" class=\"dataframe\">\n",
       "  <thead>\n",
       "    <tr style=\"text-align: right;\">\n",
       "      <th></th>\n",
       "      <th>country</th>\n",
       "      <th>customer_id</th>\n",
       "      <th>day</th>\n",
       "      <th>invoice</th>\n",
       "      <th>month</th>\n",
       "      <th>price</th>\n",
       "      <th>stream_id</th>\n",
       "      <th>times_viewed</th>\n",
       "      <th>year</th>\n",
       "      <th>invoice_date</th>\n",
       "    </tr>\n",
       "  </thead>\n",
       "  <tbody>\n",
       "    <tr>\n",
       "      <th>815006</th>\n",
       "      <td>United Kingdom</td>\n",
       "      <td>16098.0</td>\n",
       "      <td>31</td>\n",
       "      <td>562271</td>\n",
       "      <td>7</td>\n",
       "      <td>9.95</td>\n",
       "      <td>23316</td>\n",
       "      <td>1</td>\n",
       "      <td>2019</td>\n",
       "      <td>2019-07-31</td>\n",
       "    </tr>\n",
       "    <tr>\n",
       "      <th>815007</th>\n",
       "      <td>United Kingdom</td>\n",
       "      <td>16098.0</td>\n",
       "      <td>31</td>\n",
       "      <td>562271</td>\n",
       "      <td>7</td>\n",
       "      <td>3.75</td>\n",
       "      <td>22730</td>\n",
       "      <td>4</td>\n",
       "      <td>2019</td>\n",
       "      <td>2019-07-31</td>\n",
       "    </tr>\n",
       "    <tr>\n",
       "      <th>815008</th>\n",
       "      <td>United Kingdom</td>\n",
       "      <td>16098.0</td>\n",
       "      <td>31</td>\n",
       "      <td>562271</td>\n",
       "      <td>7</td>\n",
       "      <td>3.75</td>\n",
       "      <td>22725</td>\n",
       "      <td>2</td>\n",
       "      <td>2019</td>\n",
       "      <td>2019-07-31</td>\n",
       "    </tr>\n",
       "    <tr>\n",
       "      <th>815009</th>\n",
       "      <td>United Kingdom</td>\n",
       "      <td>NaN</td>\n",
       "      <td>31</td>\n",
       "      <td>562264</td>\n",
       "      <td>7</td>\n",
       "      <td>0.83</td>\n",
       "      <td>85199S</td>\n",
       "      <td>2</td>\n",
       "      <td>2019</td>\n",
       "      <td>2019-07-31</td>\n",
       "    </tr>\n",
       "    <tr>\n",
       "      <th>815010</th>\n",
       "      <td>United Kingdom</td>\n",
       "      <td>NaN</td>\n",
       "      <td>31</td>\n",
       "      <td>562264</td>\n",
       "      <td>7</td>\n",
       "      <td>3.29</td>\n",
       "      <td>22553</td>\n",
       "      <td>1</td>\n",
       "      <td>2019</td>\n",
       "      <td>2019-07-31</td>\n",
       "    </tr>\n",
       "  </tbody>\n",
       "</table>\n",
       "</div>"
      ],
      "text/plain": [
       "               country  customer_id  day invoice  month  price stream_id  \\\n",
       "815006  United Kingdom      16098.0   31  562271      7   9.95     23316   \n",
       "815007  United Kingdom      16098.0   31  562271      7   3.75     22730   \n",
       "815008  United Kingdom      16098.0   31  562271      7   3.75     22725   \n",
       "815009  United Kingdom          NaN   31  562264      7   0.83    85199S   \n",
       "815010  United Kingdom          NaN   31  562264      7   3.29     22553   \n",
       "\n",
       "        times_viewed  year invoice_date  \n",
       "815006             1  2019   2019-07-31  \n",
       "815007             4  2019   2019-07-31  \n",
       "815008             2  2019   2019-07-31  \n",
       "815009             2  2019   2019-07-31  \n",
       "815010             1  2019   2019-07-31  "
      ]
     },
     "execution_count": 3,
     "metadata": {},
     "output_type": "execute_result"
    }
   ],
   "source": [
    "df.tail()"
   ]
  },
  {
   "cell_type": "code",
   "execution_count": 4,
   "metadata": {},
   "outputs": [],
   "source": [
    "# Convert year, month, day to a datetime column\n",
    "df[\"date\"] = pd.to_datetime(df.year*10000+df.month*100+df.day, format='%Y%m%d')\n",
    "df = df.drop(columns=['year', 'month', 'day'])\n",
    "\n",
    "# Set country to a categorical type\n",
    "df['country'] = df['country'].astype('category')\n",
    "df['invoice'] = df['invoice'].astype('category')\n",
    "df['customer_id'] = df['customer_id'].astype('category')\n",
    "df['stream_id'] = df['stream_id'].astype('category')"
   ]
  },
  {
   "cell_type": "code",
   "execution_count": 5,
   "metadata": {},
   "outputs": [
    {
     "data": {
      "text/html": [
       "<div>\n",
       "<style scoped>\n",
       "    .dataframe tbody tr th:only-of-type {\n",
       "        vertical-align: middle;\n",
       "    }\n",
       "\n",
       "    .dataframe tbody tr th {\n",
       "        vertical-align: top;\n",
       "    }\n",
       "\n",
       "    .dataframe thead th {\n",
       "        text-align: right;\n",
       "    }\n",
       "</style>\n",
       "<table border=\"1\" class=\"dataframe\">\n",
       "  <thead>\n",
       "    <tr style=\"text-align: right;\">\n",
       "      <th></th>\n",
       "      <th>date</th>\n",
       "      <th>price</th>\n",
       "      <th>times_viewed</th>\n",
       "      <th>stream_id</th>\n",
       "      <th>country</th>\n",
       "      <th>customer_id</th>\n",
       "      <th>invoice</th>\n",
       "    </tr>\n",
       "  </thead>\n",
       "  <tbody>\n",
       "    <tr>\n",
       "      <th>0</th>\n",
       "      <td>2017-11-28</td>\n",
       "      <td>5.95</td>\n",
       "      <td>1</td>\n",
       "      <td>84656</td>\n",
       "      <td>United Kingdom</td>\n",
       "      <td>17998.0</td>\n",
       "      <td>489562</td>\n",
       "    </tr>\n",
       "    <tr>\n",
       "      <th>1</th>\n",
       "      <td>2017-11-28</td>\n",
       "      <td>6.75</td>\n",
       "      <td>12</td>\n",
       "      <td>79323W</td>\n",
       "      <td>United Kingdom</td>\n",
       "      <td>13085.0</td>\n",
       "      <td>489434</td>\n",
       "    </tr>\n",
       "    <tr>\n",
       "      <th>2</th>\n",
       "      <td>2017-11-28</td>\n",
       "      <td>2.10</td>\n",
       "      <td>21</td>\n",
       "      <td>22041</td>\n",
       "      <td>United Kingdom</td>\n",
       "      <td>13085.0</td>\n",
       "      <td>489434</td>\n",
       "    </tr>\n",
       "    <tr>\n",
       "      <th>3</th>\n",
       "      <td>2017-11-28</td>\n",
       "      <td>1.25</td>\n",
       "      <td>5</td>\n",
       "      <td>21232</td>\n",
       "      <td>United Kingdom</td>\n",
       "      <td>13085.0</td>\n",
       "      <td>489434</td>\n",
       "    </tr>\n",
       "    <tr>\n",
       "      <th>4</th>\n",
       "      <td>2017-11-28</td>\n",
       "      <td>1.65</td>\n",
       "      <td>17</td>\n",
       "      <td>22064</td>\n",
       "      <td>United Kingdom</td>\n",
       "      <td>13085.0</td>\n",
       "      <td>489434</td>\n",
       "    </tr>\n",
       "    <tr>\n",
       "      <th>...</th>\n",
       "      <td>...</td>\n",
       "      <td>...</td>\n",
       "      <td>...</td>\n",
       "      <td>...</td>\n",
       "      <td>...</td>\n",
       "      <td>...</td>\n",
       "      <td>...</td>\n",
       "    </tr>\n",
       "    <tr>\n",
       "      <th>815006</th>\n",
       "      <td>2019-07-31</td>\n",
       "      <td>9.95</td>\n",
       "      <td>1</td>\n",
       "      <td>23316</td>\n",
       "      <td>United Kingdom</td>\n",
       "      <td>16098.0</td>\n",
       "      <td>562271</td>\n",
       "    </tr>\n",
       "    <tr>\n",
       "      <th>815007</th>\n",
       "      <td>2019-07-31</td>\n",
       "      <td>3.75</td>\n",
       "      <td>4</td>\n",
       "      <td>22730</td>\n",
       "      <td>United Kingdom</td>\n",
       "      <td>16098.0</td>\n",
       "      <td>562271</td>\n",
       "    </tr>\n",
       "    <tr>\n",
       "      <th>815008</th>\n",
       "      <td>2019-07-31</td>\n",
       "      <td>3.75</td>\n",
       "      <td>2</td>\n",
       "      <td>22725</td>\n",
       "      <td>United Kingdom</td>\n",
       "      <td>16098.0</td>\n",
       "      <td>562271</td>\n",
       "    </tr>\n",
       "    <tr>\n",
       "      <th>815009</th>\n",
       "      <td>2019-07-31</td>\n",
       "      <td>0.83</td>\n",
       "      <td>2</td>\n",
       "      <td>85199S</td>\n",
       "      <td>United Kingdom</td>\n",
       "      <td>NaN</td>\n",
       "      <td>562264</td>\n",
       "    </tr>\n",
       "    <tr>\n",
       "      <th>815010</th>\n",
       "      <td>2019-07-31</td>\n",
       "      <td>3.29</td>\n",
       "      <td>1</td>\n",
       "      <td>22553</td>\n",
       "      <td>United Kingdom</td>\n",
       "      <td>NaN</td>\n",
       "      <td>562264</td>\n",
       "    </tr>\n",
       "  </tbody>\n",
       "</table>\n",
       "<p>782875 rows × 7 columns</p>\n",
       "</div>"
      ],
      "text/plain": [
       "             date  price  times_viewed stream_id         country customer_id  \\\n",
       "0      2017-11-28   5.95             1     84656  United Kingdom     17998.0   \n",
       "1      2017-11-28   6.75            12    79323W  United Kingdom     13085.0   \n",
       "2      2017-11-28   2.10            21     22041  United Kingdom     13085.0   \n",
       "3      2017-11-28   1.25             5     21232  United Kingdom     13085.0   \n",
       "4      2017-11-28   1.65            17     22064  United Kingdom     13085.0   \n",
       "...           ...    ...           ...       ...             ...         ...   \n",
       "815006 2019-07-31   9.95             1     23316  United Kingdom     16098.0   \n",
       "815007 2019-07-31   3.75             4     22730  United Kingdom     16098.0   \n",
       "815008 2019-07-31   3.75             2     22725  United Kingdom     16098.0   \n",
       "815009 2019-07-31   0.83             2    85199S  United Kingdom         NaN   \n",
       "815010 2019-07-31   3.29             1     22553  United Kingdom         NaN   \n",
       "\n",
       "       invoice  \n",
       "0       489562  \n",
       "1       489434  \n",
       "2       489434  \n",
       "3       489434  \n",
       "4       489434  \n",
       "...        ...  \n",
       "815006  562271  \n",
       "815007  562271  \n",
       "815008  562271  \n",
       "815009  562264  \n",
       "815010  562264  \n",
       "\n",
       "[782875 rows x 7 columns]"
      ]
     },
     "execution_count": 5,
     "metadata": {},
     "output_type": "execute_result"
    }
   ],
   "source": [
    "# Reorder columns\n",
    "df = df[['date', 'price', 'times_viewed', 'stream_id', 'country', 'customer_id', 'invoice']]\n",
    "\n",
    "# Remove outliers\n",
    "df = df[df['price'].between(df['price'].quantile(0.02), df['price'].quantile(0.98))]\n",
    "    \n",
    "df"
   ]
  },
  {
   "cell_type": "code",
   "execution_count": 6,
   "metadata": {},
   "outputs": [
    {
     "data": {
      "text/plain": [
       "537434    1298\n",
       "538071    1250\n",
       "537638    1170\n",
       "537823    1148\n",
       "537237    1146\n",
       "          ... \n",
       "508638       0\n",
       "496744       0\n",
       "556289       0\n",
       "496746       0\n",
       "527600       0\n",
       "Name: invoice, Length: 42646, dtype: int64"
      ]
     },
     "execution_count": 6,
     "metadata": {},
     "output_type": "execute_result"
    }
   ],
   "source": [
    "df['invoice'].value_counts()"
   ]
  },
  {
   "cell_type": "code",
   "execution_count": 7,
   "metadata": {},
   "outputs": [
    {
     "data": {
      "text/plain": [
       "<matplotlib.axes._subplots.AxesSubplot at 0x1a1bee5780>"
      ]
     },
     "execution_count": 7,
     "metadata": {},
     "output_type": "execute_result"
    },
    {
     "data": {
      "image/png": "[encoded data removed]",
      "text/plain": [
       "<Figure size 432x288 with 1 Axes>"
      ]
     },
     "metadata": {
      "needs_background": "light"
     },
     "output_type": "display_data"
    }
   ],
   "source": [
    "sns.distplot(df['price'], bins=10)"
   ]
  },
  {
   "cell_type": "code",
   "execution_count": 8,
   "metadata": {},
   "outputs": [
    {
     "data": {
      "image/png": "[encoded data removed]",
      "text/plain": [
       "<Figure size 1800x720 with 2 Axes>"
      ]
     },
     "metadata": {
      "needs_background": "light"
     },
     "output_type": "display_data"
    }
   ],
   "source": [
    "msno.matrix(df)\n",
    "plt.show()"
   ]
  },
  {
   "cell_type": "code",
   "execution_count": 9,
   "metadata": {},
   "outputs": [
    {
     "data": {
      "image/png": "[encoded data removed]",
      "text/plain": [
       "<Figure size 360x360 with 1 Axes>"
      ]
     },
     "metadata": {
      "needs_background": "light"
     },
     "output_type": "display_data"
    }
   ],
   "source": [
    "g = sns.relplot(x='date', y='price', data=df.groupby(pd.Grouper(key='date', freq='B')).sum().reset_index(), kind='line')\n",
    "g.fig.autofmt_xdate()"
   ]
  },
  {
   "cell_type": "code",
   "execution_count": 10,
   "metadata": {},
   "outputs": [
    {
     "data": {
      "text/html": [
       "<div>\n",
       "<style scoped>\n",
       "    .dataframe tbody tr th:only-of-type {\n",
       "        vertical-align: middle;\n",
       "    }\n",
       "\n",
       "    .dataframe tbody tr th {\n",
       "        vertical-align: top;\n",
       "    }\n",
       "\n",
       "    .dataframe thead th {\n",
       "        text-align: right;\n",
       "    }\n",
       "</style>\n",
       "<table border=\"1\" class=\"dataframe\">\n",
       "  <thead>\n",
       "    <tr style=\"text-align: right;\">\n",
       "      <th></th>\n",
       "      <th>country</th>\n",
       "      <th>revenue</th>\n",
       "    </tr>\n",
       "  </thead>\n",
       "  <tbody>\n",
       "    <tr>\n",
       "      <th>0</th>\n",
       "      <td>United Kingdom</td>\n",
       "      <td>2.293894e+06</td>\n",
       "    </tr>\n",
       "    <tr>\n",
       "      <th>1</th>\n",
       "      <td>EIRE</td>\n",
       "      <td>4.399854e+04</td>\n",
       "    </tr>\n",
       "    <tr>\n",
       "      <th>2</th>\n",
       "      <td>Germany</td>\n",
       "      <td>3.425095e+04</td>\n",
       "    </tr>\n",
       "    <tr>\n",
       "      <th>3</th>\n",
       "      <td>France</td>\n",
       "      <td>2.401081e+04</td>\n",
       "    </tr>\n",
       "    <tr>\n",
       "      <th>4</th>\n",
       "      <td>Netherlands</td>\n",
       "      <td>8.428490e+03</td>\n",
       "    </tr>\n",
       "  </tbody>\n",
       "</table>\n",
       "</div>"
      ],
      "text/plain": [
       "          country       revenue\n",
       "0  United Kingdom  2.293894e+06\n",
       "1            EIRE  4.399854e+04\n",
       "2         Germany  3.425095e+04\n",
       "3          France  2.401081e+04\n",
       "4     Netherlands  8.428490e+03"
      ]
     },
     "execution_count": 10,
     "metadata": {},
     "output_type": "execute_result"
    }
   ],
   "source": [
    "revenue_by_country = df[['country', 'price']].groupby('country').sum().sort_values('price', ascending=False)\n",
    "revenue_by_country = revenue_by_country.rename(columns={'price': 'revenue'})\n",
    "revenue_by_country = revenue_by_country.reset_index()\n",
    "revenue_by_country.head()"
   ]
  },
  {
   "cell_type": "code",
   "execution_count": 11,
   "metadata": {},
   "outputs": [
    {
     "data": {
      "text/plain": [
       "RangeIndex(start=0, stop=43, step=1)"
      ]
     },
     "execution_count": 11,
     "metadata": {},
     "output_type": "execute_result"
    }
   ],
   "source": [
    "revenue_by_country.index"
   ]
  },
  {
   "cell_type": "code",
   "execution_count": 12,
   "metadata": {},
   "outputs": [
    {
     "data": {
      "text/plain": [
       "United Kingdom          722329\n",
       "EIRE                     12992\n",
       "Germany                  12593\n",
       "France                    9228\n",
       "Netherlands               3891\n",
       "Spain                     2483\n",
       "Switzerland               2221\n",
       "Belgium                   2008\n",
       "Portugal                  1743\n",
       "Australia                 1495\n",
       "Channel Islands           1221\n",
       "Sweden                    1089\n",
       "Italy                     1004\n",
       "Cyprus                     878\n",
       "Norway                     724\n",
       "Finland                    702\n",
       "Austria                    675\n",
       "Greece                     612\n",
       "Unspecified                599\n",
       "Denmark                    553\n",
       "Japan                      500\n",
       "United Arab Emirates       435\n",
       "Poland                     424\n",
       "Singapore                  291\n",
       "Hong Kong                  265\n",
       "USA                        263\n",
       "Canada                     212\n",
       "Malta                      210\n",
       "Iceland                    193\n",
       "Lithuania                  188\n",
       "Israel                     137\n",
       "Bahrain                    126\n",
       "RSA                        109\n",
       "Brazil                      93\n",
       "Thailand                    76\n",
       "Korea                       62\n",
       "European Community          58\n",
       "Lebanon                     56\n",
       "West Indies                 47\n",
       "Bermuda                     32\n",
       "Nigeria                     31\n",
       "Czech Republic              17\n",
       "Saudi Arabia                10\n",
       "Name: country, dtype: int64"
      ]
     },
     "execution_count": 12,
     "metadata": {},
     "output_type": "execute_result"
    }
   ],
   "source": [
    "df['country'].value_counts()"
   ]
  },
  {
   "cell_type": "code",
   "execution_count": null,
   "metadata": {},
   "outputs": [],
   "source": []
  }
 ],
 "metadata": {
  "kernelspec": {
   "display_name": "Python 3",
   "language": "python",
   "name": "python3"
  },
  "language_info": {
   "codemirror_mode": {
    "name": "ipython",
    "version": 3
   },
   "file_extension": ".py",
   "mimetype": "text/x-python",
   "name": "python",
   "nbconvert_exporter": "python",
   "pygments_lexer": "ipython3",
   "version": "3.7.3"
  }
 },
 "nbformat": 4,
 "nbformat_minor": 4
}
